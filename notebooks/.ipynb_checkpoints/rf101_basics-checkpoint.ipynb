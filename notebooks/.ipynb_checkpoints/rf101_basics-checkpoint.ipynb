{
 "cells": [
  {
   "cell_type": "code",
   "execution_count": 1,
   "metadata": {
    "collapsed": false
   },
   "outputs": [
    {
     "data": {
      "application/javascript": [
       "require(['codemirror/mode/clike/clike'], function(Clike) { console.log('ROOTaaS - C++ CodeMirror module loaded'); });"
      ]
     },
     "metadata": {},
     "output_type": "display_data"
    },
    {
     "data": {
      "application/javascript": [
       "IPython.CodeCell.config_defaults.highlight_modes['magic_text/x-c++src'] = {'reg':[/^%%cpp/]};"
      ]
     },
     "metadata": {},
     "output_type": "display_data"
    },
    {
     "name": "stdout",
     "output_type": "stream",
     "text": [
      "Welcome to ROOTaaS 6.06/02\n",
      "\r\n",
      "\u001b[1mRooFit v3.60 -- Developed by Wouter Verkerke and David Kirkby\u001b[0m \r\n",
      "                Copyright (C) 2000-2013 NIKHEF, University of California & Stanford University\r\n",
      "                All rights reserved, please read http://roofit.sourceforge.net/license.txt\r\n",
      "\r\n"
     ]
    }
   ],
   "source": [
    "import ROOT\n",
    "\n",
    "  \n",
    "# S e t u p   m o d e l \n",
    "# ---------------------\n",
    "\n",
    "# Declare variables x,mean,sigma with associated name, title, initial value and allowed range\n",
    "x = ROOT.RooRealVar(\"x\",\"x\",-10,10)\n",
    "mean = ROOT.RooRealVar(\"mean\",\"mean of gaussian\",1,-10,10)\n",
    "sigma = ROOT.RooRealVar(\"sigma\",\"width of gaussian\",1,0.1,10)\n",
    "\n",
    "# Build gaussian p.d.f in terms of x,mean and sigma\n",
    "gauss = ROOT.RooGaussian(\"gauss\",\"gaussian PDF\",x,mean,sigma)\n",
    "\n",
    "# Construct plot frame in 'x'\n",
    "xframe = x.frame(ROOT.RooFit.Title(\"Gaussian p.d.f.\")) #RooPlot"
   ]
  },
  {
   "cell_type": "code",
   "execution_count": 2,
   "metadata": {
    "collapsed": false
   },
   "outputs": [
    {
     "data": {
      "text/plain": [
       "<ROOT.RooPlot object (\"frame_x_7fd34c75c6d0\") at 0x7fd34c75c6d0>"
      ]
     },
     "execution_count": 2,
     "metadata": {},
     "output_type": "execute_result"
    }
   ],
   "source": [
    "# P l o t   m o d e l   a n d   c h a n g e   p a r a m e t e r   v a l u e s\n",
    "# ---------------------------------------------------------------------------\n",
    "\n",
    "# Plot gauss in frame (i.e. in x) \n",
    "gauss.plotOn(xframe)\n",
    "\n",
    "# Change the value of sigma to 3\n",
    "sigma.setVal(3)\n",
    "\n",
    "# Plot gauss in frame (i.e. in x) and draw frame on canvas\n",
    "gauss.plotOn(xframe,ROOT.RooFit.LineColor(ROOT.kRed))"
   ]
  },
  {
   "cell_type": "code",
   "execution_count": 3,
   "metadata": {
    "collapsed": false
   },
   "outputs": [
    {
     "data": {
      "text/plain": [
       "<ROOT.RooPlot object (\"frame_x_7fd34c7b88a0\") at 0x7fd34c7b88a0>"
      ]
     },
     "execution_count": 3,
     "metadata": {},
     "output_type": "execute_result"
    }
   ],
   "source": [
    "# G e n e r a t e   e v e n t s \n",
    "# -----------------------------\n",
    "\n",
    "# Generate a dataset of 1000 events in x from gauss\n",
    "data = gauss.generate(ROOT.RooArgSet(x),10000)  # RooDataSet\n",
    "\n",
    "# Make a second plot frame in x and draw both the \n",
    "# data and the p.d.f in the frame\n",
    "xframe2 = x.frame(ROOT.RooFit.Title(\"Gaussian p.d.f. with data\")) #RooPlot\n",
    "data.plotOn(xframe2)\n",
    "gauss.plotOn(xframe2)"
   ]
  },
  {
   "cell_type": "code",
   "execution_count": 4,
   "metadata": {
    "collapsed": false
   },
   "outputs": [
    {
     "data": {
      "text/plain": [
       "<ROOT.RooFitResult object at 0x0>"
      ]
     },
     "execution_count": 4,
     "metadata": {},
     "output_type": "execute_result"
    }
   ],
   "source": [
    "# F i t   m o d e l   t o   d a t a\n",
    "# -----------------------------\n",
    "\n",
    "# Fit pdf to data\n",
    "gauss.fitTo(data,ROOT.RooFit.PrintLevel(-1))"
   ]
  },
  {
   "cell_type": "code",
   "execution_count": 5,
   "metadata": {
    "collapsed": false
   },
   "outputs": [
    {
     "name": "stdout",
     "output_type": "stream",
     "text": [
      "RooRealVar::mean = 1.01746 +/- 0.0300144  L(-10 - 10) \r\n",
      "RooRealVar::sigma = 2.9787 +/- 0.0219217  L(0.1 - 10) \r\n"
     ]
    }
   ],
   "source": [
    "# Print values of mean and sigma (that now reflect fitted values and errors)\n",
    "mean.Print()\n",
    "sigma.Print()"
   ]
  },
  {
   "cell_type": "code",
   "execution_count": 6,
   "metadata": {
    "collapsed": false
   },
   "outputs": [
    {
     "data": {
      "image/png": "[encoded data removed]",
      "text/plain": [
       "<IPython.core.display.Image object>"
      ]
     },
     "metadata": {},
     "output_type": "display_data"
    }
   ],
   "source": [
    "# Draw all frames on a canvas\n",
    "c = ROOT.TCanvas(\"rf101_basics\",\"rf101_basics\",800,400)\n",
    "c.Divide(2)\n",
    "c.cd(1) ; ROOT.gPad.SetLeftMargin(0.15) ; xframe.GetYaxis().SetTitleOffset(1.6) ; xframe.Draw() ;\n",
    "c.cd(2) ; ROOT.gPad.SetLeftMargin(0.15) ; xframe2.GetYaxis().SetTitleOffset(1.6) ; xframe2.Draw() ;\n",
    "c.Draw()"
   ]
  },
  {
   "cell_type": "code",
   "execution_count": null,
   "metadata": {
    "collapsed": true
   },
   "outputs": [],
   "source": []
  }
 ],
 "metadata": {
  "kernelspec": {
   "display_name": "Python 2",
   "language": "python",
   "name": "python2"
  },
  "language_info": {
   "codemirror_mode": {
    "name": "ipython",
    "version": 2
   },
   "file_extension": ".py",
   "mimetype": "text/x-python",
   "name": "python",
   "nbconvert_exporter": "python",
   "pygments_lexer": "ipython2",
   "version": "2.7.11"
  }
 },
 "nbformat": 4,
 "nbformat_minor": 0
}
